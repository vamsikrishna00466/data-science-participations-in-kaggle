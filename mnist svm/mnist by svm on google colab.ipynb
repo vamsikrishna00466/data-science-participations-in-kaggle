{
  "nbformat": 4,
  "nbformat_minor": 0,
  "metadata": {
    "colab": {
      "name": "Untitled0.ipynb",
      "provenance": [],
      "toc_visible": true
    },
    "kernelspec": {
      "name": "python3",
      "display_name": "Python 3"
    },
    "accelerator": "GPU"
  },
  "cells": [
    {
      "cell_type": "code",
      "metadata": {
        "colab": {
          "base_uri": "https://localhost:8080/"
        },
        "id": "66Z1cJCviajj",
        "outputId": "598f27f2-ef68-4e6a-8c4c-1d8ae9bc4895"
      },
      "source": [
        "!pip install thundersvm"
      ],
      "execution_count": 1,
      "outputs": [
        {
          "output_type": "stream",
          "text": [
            "Collecting thundersvm\n",
            "\u001b[?25l  Downloading https://files.pythonhosted.org/packages/7d/16/281a54f6d1f70c59df242f2f93e5cc04daf01b9c9809c2b154d15ea6a346/thundersvm-0.3.12-py3-none-any.whl (507kB)\n",
            "\r\u001b[K     |▋                               | 10kB 22.9MB/s eta 0:00:01\r\u001b[K     |█▎                              | 20kB 15.5MB/s eta 0:00:01\r\u001b[K     |██                              | 30kB 13.2MB/s eta 0:00:01\r\u001b[K     |██▋                             | 40kB 9.8MB/s eta 0:00:01\r\u001b[K     |███▎                            | 51kB 8.3MB/s eta 0:00:01\r\u001b[K     |███▉                            | 61kB 9.0MB/s eta 0:00:01\r\u001b[K     |████▌                           | 71kB 9.0MB/s eta 0:00:01\r\u001b[K     |█████▏                          | 81kB 9.2MB/s eta 0:00:01\r\u001b[K     |█████▉                          | 92kB 9.3MB/s eta 0:00:01\r\u001b[K     |██████▌                         | 102kB 8.0MB/s eta 0:00:01\r\u001b[K     |███████                         | 112kB 8.0MB/s eta 0:00:01\r\u001b[K     |███████▊                        | 122kB 8.0MB/s eta 0:00:01\r\u001b[K     |████████▍                       | 133kB 8.0MB/s eta 0:00:01\r\u001b[K     |█████████                       | 143kB 8.0MB/s eta 0:00:01\r\u001b[K     |█████████▊                      | 153kB 8.0MB/s eta 0:00:01\r\u001b[K     |██████████▍                     | 163kB 8.0MB/s eta 0:00:01\r\u001b[K     |███████████                     | 174kB 8.0MB/s eta 0:00:01\r\u001b[K     |███████████▋                    | 184kB 8.0MB/s eta 0:00:01\r\u001b[K     |████████████▎                   | 194kB 8.0MB/s eta 0:00:01\r\u001b[K     |█████████████                   | 204kB 8.0MB/s eta 0:00:01\r\u001b[K     |█████████████▋                  | 215kB 8.0MB/s eta 0:00:01\r\u001b[K     |██████████████▏                 | 225kB 8.0MB/s eta 0:00:01\r\u001b[K     |██████████████▉                 | 235kB 8.0MB/s eta 0:00:01\r\u001b[K     |███████████████▌                | 245kB 8.0MB/s eta 0:00:01\r\u001b[K     |████████████████▏               | 256kB 8.0MB/s eta 0:00:01\r\u001b[K     |████████████████▉               | 266kB 8.0MB/s eta 0:00:01\r\u001b[K     |█████████████████▍              | 276kB 8.0MB/s eta 0:00:01\r\u001b[K     |██████████████████              | 286kB 8.0MB/s eta 0:00:01\r\u001b[K     |██████████████████▊             | 296kB 8.0MB/s eta 0:00:01\r\u001b[K     |███████████████████▍            | 307kB 8.0MB/s eta 0:00:01\r\u001b[K     |████████████████████            | 317kB 8.0MB/s eta 0:00:01\r\u001b[K     |████████████████████▊           | 327kB 8.0MB/s eta 0:00:01\r\u001b[K     |█████████████████████▎          | 337kB 8.0MB/s eta 0:00:01\r\u001b[K     |██████████████████████          | 348kB 8.0MB/s eta 0:00:01\r\u001b[K     |██████████████████████▋         | 358kB 8.0MB/s eta 0:00:01\r\u001b[K     |███████████████████████▎        | 368kB 8.0MB/s eta 0:00:01\r\u001b[K     |████████████████████████        | 378kB 8.0MB/s eta 0:00:01\r\u001b[K     |████████████████████████▌       | 389kB 8.0MB/s eta 0:00:01\r\u001b[K     |█████████████████████████▏      | 399kB 8.0MB/s eta 0:00:01\r\u001b[K     |█████████████████████████▉      | 409kB 8.0MB/s eta 0:00:01\r\u001b[K     |██████████████████████████▌     | 419kB 8.0MB/s eta 0:00:01\r\u001b[K     |███████████████████████████▏    | 430kB 8.0MB/s eta 0:00:01\r\u001b[K     |███████████████████████████▊    | 440kB 8.0MB/s eta 0:00:01\r\u001b[K     |████████████████████████████▍   | 450kB 8.0MB/s eta 0:00:01\r\u001b[K     |█████████████████████████████   | 460kB 8.0MB/s eta 0:00:01\r\u001b[K     |█████████████████████████████▊  | 471kB 8.0MB/s eta 0:00:01\r\u001b[K     |██████████████████████████████▍ | 481kB 8.0MB/s eta 0:00:01\r\u001b[K     |███████████████████████████████ | 491kB 8.0MB/s eta 0:00:01\r\u001b[K     |███████████████████████████████▋| 501kB 8.0MB/s eta 0:00:01\r\u001b[K     |████████████████████████████████| 512kB 8.0MB/s \n",
            "\u001b[?25hRequirement already satisfied: scikit-learn in /usr/local/lib/python3.6/dist-packages (from thundersvm) (0.22.2.post1)\n",
            "Requirement already satisfied: numpy in /usr/local/lib/python3.6/dist-packages (from thundersvm) (1.19.5)\n",
            "Requirement already satisfied: scipy in /usr/local/lib/python3.6/dist-packages (from thundersvm) (1.4.1)\n",
            "Requirement already satisfied: joblib>=0.11 in /usr/local/lib/python3.6/dist-packages (from scikit-learn->thundersvm) (1.0.0)\n",
            "Installing collected packages: thundersvm\n",
            "Successfully installed thundersvm-0.3.12\n"
          ],
          "name": "stdout"
        }
      ]
    },
    {
      "cell_type": "code",
      "metadata": {
        "colab": {
          "base_uri": "https://localhost:8080/"
        },
        "id": "kZO1aRwSitiS",
        "outputId": "478f74e6-1569-4d50-add0-29a3dab983f4"
      },
      "source": [
        "!pip install thundersvm-cpu"
      ],
      "execution_count": 2,
      "outputs": [
        {
          "output_type": "stream",
          "text": [
            "Collecting thundersvm-cpu\n",
            "\u001b[?25l  Downloading https://files.pythonhosted.org/packages/32/64/8c500331a9d87deaae122f5dea4384cde3ea2961468310bb3bc992185f92/thundersvm_cpu-0.3.3-py3-none-any.whl (227kB)\n",
            "\r\u001b[K     |█▍                              | 10kB 26.9MB/s eta 0:00:01\r\u001b[K     |██▉                             | 20kB 17.3MB/s eta 0:00:01\r\u001b[K     |████▎                           | 30kB 14.2MB/s eta 0:00:01\r\u001b[K     |█████▊                          | 40kB 12.9MB/s eta 0:00:01\r\u001b[K     |███████▏                        | 51kB 9.2MB/s eta 0:00:01\r\u001b[K     |████████▋                       | 61kB 10.0MB/s eta 0:00:01\r\u001b[K     |██████████                      | 71kB 9.7MB/s eta 0:00:01\r\u001b[K     |███████████▌                    | 81kB 10.8MB/s eta 0:00:01\r\u001b[K     |█████████████                   | 92kB 10.3MB/s eta 0:00:01\r\u001b[K     |██████████████▍                 | 102kB 8.9MB/s eta 0:00:01\r\u001b[K     |███████████████▉                | 112kB 8.9MB/s eta 0:00:01\r\u001b[K     |█████████████████▎              | 122kB 8.9MB/s eta 0:00:01\r\u001b[K     |██████████████████▊             | 133kB 8.9MB/s eta 0:00:01\r\u001b[K     |████████████████████▏           | 143kB 8.9MB/s eta 0:00:01\r\u001b[K     |█████████████████████▋          | 153kB 8.9MB/s eta 0:00:01\r\u001b[K     |███████████████████████         | 163kB 8.9MB/s eta 0:00:01\r\u001b[K     |████████████████████████▌       | 174kB 8.9MB/s eta 0:00:01\r\u001b[K     |██████████████████████████      | 184kB 8.9MB/s eta 0:00:01\r\u001b[K     |███████████████████████████▍    | 194kB 8.9MB/s eta 0:00:01\r\u001b[K     |████████████████████████████▉   | 204kB 8.9MB/s eta 0:00:01\r\u001b[K     |██████████████████████████████▎ | 215kB 8.9MB/s eta 0:00:01\r\u001b[K     |███████████████████████████████▊| 225kB 8.9MB/s eta 0:00:01\r\u001b[K     |████████████████████████████████| 235kB 8.9MB/s \n",
            "\u001b[?25hRequirement already satisfied: scipy in /usr/local/lib/python3.6/dist-packages (from thundersvm-cpu) (1.4.1)\n",
            "Requirement already satisfied: scikit-learn in /usr/local/lib/python3.6/dist-packages (from thundersvm-cpu) (0.22.2.post1)\n",
            "Requirement already satisfied: numpy in /usr/local/lib/python3.6/dist-packages (from thundersvm-cpu) (1.19.5)\n",
            "Requirement already satisfied: joblib>=0.11 in /usr/local/lib/python3.6/dist-packages (from scikit-learn->thundersvm-cpu) (1.0.0)\n",
            "Installing collected packages: thundersvm-cpu\n",
            "Successfully installed thundersvm-cpu-0.3.3\n"
          ],
          "name": "stdout"
        }
      ]
    },
    {
      "cell_type": "code",
      "metadata": {
        "id": "Y8Z2Ooaxiw83"
      },
      "source": [
        "import numpy as np\r\n",
        "import pandas as pd\r\n",
        "from sklearn.model_selection import train_test_split\r\n",
        "from thundersvm import SVC\r\n",
        "from sklearn.metrics import confusion_matrix\r\n",
        "from sklearn.model_selection import validation_curve\r\n",
        "from sklearn.model_selection import cross_val_score"
      ],
      "execution_count": 3,
      "outputs": []
    },
    {
      "cell_type": "code",
      "metadata": {
        "id": "jdZMZQMWjAlD"
      },
      "source": [
        "train=pd.read_csv('/content/drive/MyDrive/mnist/train.csv')\r\n",
        "test=pd.read_csv('/content/drive/MyDrive/mnist/test.csv')\r\n",
        "sub=pd.read_csv('/content/drive/MyDrive/mnist/sample_submission.csv')"
      ],
      "execution_count": 4,
      "outputs": []
    },
    {
      "cell_type": "code",
      "metadata": {
        "id": "7Tq5qiU_jZTV"
      },
      "source": [
        "## Separating the X and Y variable\r\n",
        "\r\n",
        "y = train['label']\r\n",
        "\r\n",
        "## Dropping the variable 'label' from X variable \r\n",
        "X = train.drop(columns = 'label')\r\n"
      ],
      "execution_count": 5,
      "outputs": []
    },
    {
      "cell_type": "code",
      "metadata": {
        "id": "W6W-jBn6j44y"
      },
      "source": [
        "from sklearn.model_selection import train_test_split\r\n",
        "X_train, X_test, y_train, y_test = train_test_split(X, y, random_state=42, test_size=.33)"
      ],
      "execution_count": 6,
      "outputs": []
    },
    {
      "cell_type": "code",
      "metadata": {
        "colab": {
          "base_uri": "https://localhost:8080/"
        },
        "id": "NJcShoSPjk7G",
        "outputId": "d70c1d86-fb22-4c02-9ffa-5ba4644a1a26"
      },
      "source": [
        "# Initialize model\r\n",
        "model = SVC(C=100, kernel='rbf')\r\n",
        "\r\n",
        "# Fit the model to training data\r\n",
        "model.fit(X_train, y_train)\r\n",
        "\r\n",
        "# Check test set accuracy\r\n",
        "accuracy = model.score(X_test, y_test)\r\n",
        "\r\n",
        "print('Accuracy: {}'.format(accuracy))"
      ],
      "execution_count": 7,
      "outputs": [
        {
          "output_type": "stream",
          "text": [
            "Accuracy: 0.10966810966810966\n"
          ],
          "name": "stdout"
        }
      ]
    },
    {
      "cell_type": "code",
      "metadata": {
        "id": "tYJRA_8Oj-8g"
      },
      "source": [
        "\r\n"
      ],
      "execution_count": null,
      "outputs": []
    }
  ]
}